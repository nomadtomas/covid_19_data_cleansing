{
 "cells": [
  {
   "cell_type": "code",
   "execution_count": 1,
   "metadata": {},
   "outputs": [],
   "source": [
    "import os\n",
    "import pandas as pd \n",
    "import numpy as np\n",
    "import pymongo"
   ]
  },
  {
   "cell_type": "code",
   "execution_count": 2,
   "metadata": {},
   "outputs": [],
   "source": [
    "#dataframe with csv file names that have already been loaded to mongo\n",
    "df = pd.read_csv('../data/master_list.csv')"
   ]
  },
  {
   "cell_type": "code",
   "execution_count": 3,
   "metadata": {},
   "outputs": [],
   "source": [
    "#creates file path to the COVID-19 cloned repo\n",
    "file_path = '../COVID-19/csse_covid_19_data/csse_covid_19_daily_reports/'\n",
    "csv_dir = os.getcwd() + file_path"
   ]
  },
  {
   "cell_type": "code",
   "execution_count": 4,
   "metadata": {},
   "outputs": [],
   "source": [
    "def connect_mongodb():\n",
    "    #connection to mongodb database table\n",
    "    client = pymongo.MongoClient()\n",
    "    #creates db named covid19\n",
    "    db = client.covid19\n",
    "    #creates table called data with the covid19 db\n",
    "    collection = db.data\n",
    "    return collection\n",
    "\n",
    "def load_data(df, collection, csv_dir):\n",
    "    '''\n",
    "    Loads data to mongodb\n",
    "    \n",
    "    Parameters:\n",
    "    -----------\n",
    "    df : dataframe\n",
    "        dataframe of files names that have already been loaded\n",
    "        if no dataframe exists one needs to be created\n",
    "        \n",
    "    collection : MongoDB table\n",
    "        established connection to table in mongodb\n",
    "        \n",
    "    csv_dir : directory\n",
    "        address to working directory where all csv files are housed\n",
    "    \n",
    "    Returns:\n",
    "    --------\n",
    "        \n",
    "    '''\n",
    "    dir_tree = os.walk(csv_dir)\n",
    "    for _, _, filenames in dir_tree:\n",
    "        pass\n",
    "\n",
    "    def csv_to_json(filename):\n",
    "        data = pd.read_csv(filename)\n",
    "        return data.to_dict('records')\n",
    "    \n",
    "    for file in filenames:\n",
    "        if file not in df['filename'].tolist() and file.endswith('.csv'):\n",
    "            df = df.append({'filename': file}, ignore_index=True)\n",
    "            df.to_csv('data/master_list.csv', index=False)\n",
    "            collection.insert_many(csv_to_json(csv_dir + file))\n",
    "\n",
    "            "
   ]
  },
  {
   "cell_type": "code",
   "execution_count": 5,
   "metadata": {},
   "outputs": [],
   "source": [
    "collection = connect_mongodb()\n",
    "load_data(df, collection, csv_dir)"
   ]
  }
 ],
 "metadata": {
  "kernelspec": {
   "display_name": "Python 3",
   "language": "python",
   "name": "python3"
  },
  "language_info": {
   "codemirror_mode": {
    "name": "ipython",
    "version": 3
   },
   "file_extension": ".py",
   "mimetype": "text/x-python",
   "name": "python",
   "nbconvert_exporter": "python",
   "pygments_lexer": "ipython3",
   "version": "3.7.4"
  }
 },
 "nbformat": 4,
 "nbformat_minor": 2
}
